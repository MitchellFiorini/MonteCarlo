{
 "cells": [
  {
   "cell_type": "markdown",
   "metadata": {},
   "source": [
    "# This notebook uses the Monte Carlo method to show how the sum of two dice approach a normal distribution."
   ]
  },
  {
   "cell_type": "code",
   "execution_count": 1,
   "metadata": {},
   "outputs": [],
   "source": [
    "import random\n",
    "import matplotlib\n",
    "#random dice roll function\n",
    "def rolldice():\n",
    "    roll = random.randint(1,6)\n",
    "    return roll"
   ]
  },
  {
   "cell_type": "code",
   "execution_count": 2,
   "metadata": {},
   "outputs": [
    {
     "name": "stdout",
     "output_type": "stream",
     "text": [
      "17/100 : 0.17\n",
      "17/100 : 0.17\n",
      "13/100 : 0.13\n",
      "19/100 : 0.19\n",
      "16/100 : 0.16\n",
      "18/100 : 0.18\n"
     ]
    }
   ],
   "source": [
    "#test the random dice roll\n",
    "x = 0\n",
    "t1 = 0\n",
    "t2 = 0\n",
    "t3 = 0\n",
    "t4 = 0\n",
    "t5 = 0\n",
    "t6 = 0\n",
    "while x < 100:\n",
    "    res = rolldice()\n",
    "    if res == 1:\n",
    "        t1+=1\n",
    "    if res == 2:\n",
    "        t2+=1\n",
    "    if res == 3:\n",
    "        t3+=1\n",
    "    if res == 4:\n",
    "        t4+=1\n",
    "    if res == 5:\n",
    "        t5+=1\n",
    "    if res == 6:\n",
    "        t6+=1\n",
    "    #print(res)\n",
    "    x+=1\n",
    "    \n",
    "print(str(t1) + \"/\" + str(x) + \" : \" + str(t1/x))\n",
    "print(str(t2) + \"/\" + str(x) + \" : \" + str(t2/x))\n",
    "print(str(t3) + \"/\" + str(x) + \" : \" + str(t3/x))\n",
    "print(str(t4) + \"/\" + str(x) + \" : \" + str(t4/x))\n",
    "print(str(t5) + \"/\" + str(x) + \" : \" + str(t5/x))\n",
    "print(str(t6) + \"/\" + str(x) + \" : \" + str(t6/x))"
   ]
  },
  {
   "cell_type": "markdown",
   "metadata": {},
   "source": [
    "The odds of rolling a particular number is approximately 1/6  as expected."
   ]
  },
  {
   "cell_type": "code",
   "execution_count": 13,
   "metadata": {},
   "outputs": [],
   "source": [
    "#play dice function - rolls two dice and returns the sum\n",
    "def playdice():\n",
    "    total = rolldice() + rolldice()\n",
    "    return total"
   ]
  },
  {
   "cell_type": "code",
   "execution_count": 14,
   "metadata": {},
   "outputs": [],
   "source": [
    "import numpy as np\n",
    "import matplotlib.pyplot as plt"
   ]
  },
  {
   "cell_type": "code",
   "execution_count": 23,
   "metadata": {},
   "outputs": [
    {
     "data": {
      "image/png": "[encoded data removed]",
      "text/plain": [
       "<Figure size 432x288 with 1 Axes>"
      ]
     },
     "metadata": {},
     "output_type": "display_data"
    }
   ],
   "source": [
    "y = 0\n",
    "lst = []\n",
    "while y < 20:\n",
    "    temp = playdice()\n",
    "    lst.append(temp)\n",
    "    y+=1\n",
    "plt.hist(lst, bins=11)\n",
    "plt.show()"
   ]
  },
  {
   "cell_type": "markdown",
   "metadata": {},
   "source": [
    "With a low number of samples, we can see that the output (most likely) does not appear normal.\n",
    "As we increase the number of rolls, the histogram should progressively appear as a normal distribution."
   ]
  },
  {
   "cell_type": "code",
   "execution_count": 24,
   "metadata": {},
   "outputs": [
    {
     "data": {
      "image/png": "[encoded data removed]",
      "text/plain": [
       "<Figure size 432x288 with 1 Axes>"
      ]
     },
     "metadata": {},
     "output_type": "display_data"
    }
   ],
   "source": [
    "#50 rolls\n",
    "y = 0\n",
    "lst = []\n",
    "while y < 50:\n",
    "    temp = playdice()\n",
    "    lst.append(temp)\n",
    "    y+=1\n",
    "plt.hist(lst, bins=11)\n",
    "plt.show()"
   ]
  },
  {
   "cell_type": "code",
   "execution_count": 25,
   "metadata": {},
   "outputs": [
    {
     "data": {
      "image/png": "[encoded data removed]",
      "text/plain": [
       "<Figure size 432x288 with 1 Axes>"
      ]
     },
     "metadata": {},
     "output_type": "display_data"
    }
   ],
   "source": [
    "#100 rolls \n",
    "y = 0\n",
    "lst = []\n",
    "while y < 100:\n",
    "    temp = playdice()\n",
    "    lst.append(temp)\n",
    "    y+=1\n",
    "plt.hist(lst, bins=11)\n",
    "plt.show()"
   ]
  },
  {
   "cell_type": "code",
   "execution_count": 26,
   "metadata": {},
   "outputs": [
    {
     "data": {
      "image/png": "[encoded data removed]",
      "text/plain": [
       "<Figure size 432x288 with 1 Axes>"
      ]
     },
     "metadata": {},
     "output_type": "display_data"
    }
   ],
   "source": [
    "#500 rolls \n",
    "y = 0\n",
    "lst = []\n",
    "while y < 500:\n",
    "    temp = playdice()\n",
    "    lst.append(temp)\n",
    "    y+=1\n",
    "plt.hist(lst, bins=11)\n",
    "plt.show()"
   ]
  },
  {
   "cell_type": "code",
   "execution_count": 27,
   "metadata": {},
   "outputs": [
    {
     "data": {
      "image/png": "[encoded data removed]",
      "text/plain": [
       "<Figure size 432x288 with 1 Axes>"
      ]
     },
     "metadata": {},
     "output_type": "display_data"
    }
   ],
   "source": [
    "#5000 rolls \n",
    "y = 0\n",
    "lst = []\n",
    "while y < 5000:\n",
    "    temp = playdice()\n",
    "    lst.append(temp)\n",
    "    y+=1\n",
    "plt.hist(lst, bins=11)\n",
    "plt.show()"
   ]
  },
  {
   "cell_type": "code",
   "execution_count": 28,
   "metadata": {},
   "outputs": [
    {
     "data": {
      "image/png": "[encoded data removed]",
      "text/plain": [
       "<Figure size 432x288 with 1 Axes>"
      ]
     },
     "metadata": {},
     "output_type": "display_data"
    }
   ],
   "source": [
    "#50000 rolls\n",
    "y = 0\n",
    "lst = []\n",
    "while y < 50000:\n",
    "    temp = playdice()\n",
    "    lst.append(temp)\n",
    "    y+=1\n",
    "plt.hist(lst, bins=11)\n",
    "plt.show()"
   ]
  },
  {
   "cell_type": "code",
   "execution_count": 29,
   "metadata": {},
   "outputs": [
    {
     "data": {
      "image/png": "[encoded data removed]",
      "text/plain": [
       "<Figure size 432x288 with 1 Axes>"
      ]
     },
     "metadata": {},
     "output_type": "display_data"
    }
   ],
   "source": [
    "#100000 rolls \n",
    "y = 0\n",
    "lst = []\n",
    "while y < 100000:\n",
    "    temp = playdice()\n",
    "    lst.append(temp)\n",
    "    y+=1\n",
    "np.histogram(lst)\n",
    "plt.hist(lst, bins=11)\n",
    "plt.show()"
   ]
  },
  {
   "cell_type": "code",
   "execution_count": 30,
   "metadata": {},
   "outputs": [
    {
     "data": {
      "image/png": "[encoded data removed]",
      "text/plain": [
       "<Figure size 432x288 with 1 Axes>"
      ]
     },
     "metadata": {},
     "output_type": "display_data"
    }
   ],
   "source": [
    "#500000 rolls\n",
    "y = 0\n",
    "lst = []\n",
    "while y < 500000:\n",
    "    temp = playdice()\n",
    "    lst.append(temp)\n",
    "    y+=1\n",
    "plt.hist(lst, bins=11)\n",
    "plt.show()"
   ]
  },
  {
   "cell_type": "code",
   "execution_count": null,
   "metadata": {
    "collapsed": true
   },
   "outputs": [],
   "source": []
  }
 ],
 "metadata": {
  "kernelspec": {
   "display_name": "Python 3",
   "language": "python",
   "name": "python3"
  },
  "language_info": {
   "codemirror_mode": {
    "name": "ipython",
    "version": 3
   },
   "file_extension": ".py",
   "mimetype": "text/x-python",
   "name": "python",
   "nbconvert_exporter": "python",
   "pygments_lexer": "ipython3",
   "version": "3.6.5"
  }
 },
 "nbformat": 4,
 "nbformat_minor": 2
}
